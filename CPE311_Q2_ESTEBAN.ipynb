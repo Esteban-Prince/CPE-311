{
 "cells": [
  {
   "cell_type": "code",
   "execution_count": 19,
   "id": "09a5afb5-fe25-43a8-b4e4-0ec798c570a3",
   "metadata": {},
   "outputs": [
    {
     "data": {
      "text/plain": [
       "'\\nYou are given n types of coin denominations of values v(1) < v(2) < ... < v(n) (all integers). \\nAssume v(1) = 1, so you can always make change for any amount of money C.\\nGive an algorithm which makes change for an amount of money C with as few coins as possible. \\n'"
      ]
     },
     "execution_count": 19,
     "metadata": {},
     "output_type": "execute_result"
    }
   ],
   "source": [
    "'''\n",
    "You are given n types of coin denominations of values v(1) < v(2) < ... < v(n) (all integers). \n",
    "Assume v(1) = 1, so you can always make change for any amount of money C.\n",
    "Give an algorithm which makes change for an amount of money C with as few coins as possible. \n",
    "'''"
   ]
  },
  {
   "cell_type": "code",
   "execution_count": 2,
   "id": "35f56195-51a8-4e8e-ad3c-67c6acbba2d6",
   "metadata": {},
   "outputs": [
    {
     "name": "stdout",
     "output_type": "stream",
     "text": [
      "You have given  1781  pesos, Here is your change: \n"
     ]
    },
    {
     "data": {
      "text/plain": [
       "('You have a total change of ',\n",
       " 89,\n",
       " 'Twenty peso coins',\n",
       " 0,\n",
       " ' Ten peso coins, ',\n",
       " 0,\n",
       " ' Five peso coins, and ',\n",
       " 1,\n",
       " ' One peso coins.')"
      ]
     },
     "execution_count": 2,
     "metadata": {},
     "output_type": "execute_result"
    }
   ],
   "source": [
    "def func(n):\n",
    "    print(\"You have given \",n,\" pesos, Here is your change: \")\n",
    "    \n",
    "    if n == 0 and n == 1:\n",
    "        return 1\n",
    "        \n",
    "    if n < 5:\n",
    "        return \"You have a total change of \",n,\" one peso coins.\"\n",
    "        \n",
    "    if n > 5 :\n",
    "        result20 = n//20\n",
    "        result10 = (n%20)//10\n",
    "        result5 = (n%10)//5\n",
    "        result1 = n%5\n",
    "        return (\"You have a total change of \",result20,\"Twenty peso coins\",result10,\" Ten peso coins, \",result5,\" Five peso coins, and \",result1,\" One peso coins.\")\n",
    "\n",
    "func(1781)\n"
   ]
  },
  {
   "cell_type": "code",
   "execution_count": 3,
   "id": "d5271a44-edf9-4c61-9a35-05680a20ce20",
   "metadata": {},
   "outputs": [
    {
     "data": {
      "text/plain": [
       "'hi'"
      ]
     },
     "execution_count": 3,
     "metadata": {},
     "output_type": "execute_result"
    }
   ],
   "source": [
    "def func(n):\n",
    "    if n == 0:\n",
    "        return \"hi\"\n",
    "\n",
    "func(0)"
   ]
  },
  {
   "cell_type": "code",
   "execution_count": 4,
   "id": "a208f70a-ec8d-4224-80d7-f9e5f66b2292",
   "metadata": {},
   "outputs": [
    {
     "name": "stdout",
     "output_type": "stream",
     "text": [
      "You have given  4  pesos, Here is your change: \n"
     ]
    },
    {
     "data": {
      "text/plain": [
       "{}"
      ]
     },
     "execution_count": 4,
     "metadata": {},
     "output_type": "execute_result"
    }
   ],
   "source": [
    "def func(n):\n",
    "    print(\"You have given \",n,\" pesos, Here is your change: \")\n",
    "    dict = {}\n",
    "    \n",
    "    if n == 0 and n == 1:\n",
    "        print('test')\n",
    "        return 1\n",
    "        \n",
    "    if n > 1:\n",
    "        x = n-1\n",
    "        while x > 0:             \n",
    "            #formula = (n/x)\n",
    "            if (n%x) == 0:\n",
    "                dict.append(n)\n",
    "                x-1      \n",
    "                print(dict)\n",
    "\n",
    "        \n",
    "            n-1\n",
    "            return (dict)\n",
    "\n",
    "func(4)"
   ]
  },
  {
   "cell_type": "code",
   "execution_count": 78,
   "id": "b70cbf6d-c9b7-43b2-9220-e49e7b0e528b",
   "metadata": {},
   "outputs": [
    {
     "name": "stdout",
     "output_type": "stream",
     "text": [
      "You have given  23  pesos, Here is your change: \n",
      "0\n",
      "0\n",
      "0\n",
      "test2\n"
     ]
    },
    {
     "data": {
      "text/plain": [
       "('You have a total change of ',\n",
       " (10, 5, 1),\n",
       " ' 10, 5, and 1 peso coins correspondingly.')"
      ]
     },
     "execution_count": 78,
     "metadata": {},
     "output_type": "execute_result"
    }
   ],
   "source": [
    "def func(n):\n",
    "    num = 0\n",
    "    denom = (10, 5, 1)\n",
    "    print(\"You have given \",n,\" pesos, Here is your change: \")\n",
    "    \n",
    "    if n == 0 and n == 1:\n",
    "        print('test')\n",
    "        return 1\n",
    "        \n",
    "    if n < 5:\n",
    "        print('test1')\n",
    "        return \"You have a total change of \",n,\" one peso coins.\"\n",
    "        \n",
    "    if n > 5 :\n",
    "        for i in denom:\n",
    "            div = n//denom[num+1]\n",
    "            rem = n%denom[num+1]\n",
    "            result = rem//n\n",
    "            print(result)\n",
    "            \n",
    "        print('test2')\n",
    "        return (\"You have a total change of \",denom,\" 10, 5, and 1 peso coins correspondingly.\")\n",
    "\n",
    "func(23)"
   ]
  },
  {
   "cell_type": "code",
   "execution_count": null,
   "id": "c27c2c8d-00e0-4bb4-92d3-90da928d7500",
   "metadata": {},
   "outputs": [],
   "source": [
    "#FINAL CODE#\n",
    "\n",
    "def func(n):\n",
    "    print(\"You have given \",n,\" pesos, Here is your change: \")\n",
    "    \n",
    "    if n == 0 and n == 1:\n",
    "        return 1\n",
    "        \n",
    "    if n < 5:\n",
    "        return \"You have a total change of \",n,\" one peso coins.\"\n",
    "        \n",
    "    if n > 5 :\n",
    "        result20 = n//20\n",
    "        result10 = (n%20)//10\n",
    "        result5 = (n%10)//5\n",
    "        result1 = n%5\n",
    "        return (\"You have a total change of \",result20,\"Twenty peso coins\",result10,\" Ten peso coins, \",result5,\" Five peso coins, and \",result1,\" One peso coins.\")\n",
    "\n",
    "func(1781)\n"
   ]
  }
 ],
 "metadata": {
  "kernelspec": {
   "display_name": "Python 3 (ipykernel)",
   "language": "python",
   "name": "python3"
  },
  "language_info": {
   "codemirror_mode": {
    "name": "ipython",
    "version": 3
   },
   "file_extension": ".py",
   "mimetype": "text/x-python",
   "name": "python",
   "nbconvert_exporter": "python",
   "pygments_lexer": "ipython3",
   "version": "3.12.4"
  }
 },
 "nbformat": 4,
 "nbformat_minor": 5
}
