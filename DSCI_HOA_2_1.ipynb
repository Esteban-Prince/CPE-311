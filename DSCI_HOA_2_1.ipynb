{
  "nbformat": 4,
  "nbformat_minor": 0,
  "metadata": {
    "colab": {
      "provenance": [],
      "authorship_tag": "ABX9TyM/qvaiT6HisLyTTlXdxLAc",
      "include_colab_link": true
    },
    "kernelspec": {
      "name": "python3",
      "display_name": "Python 3"
    },
    "language_info": {
      "name": "python"
    }
  },
  "cells": [
    {
      "cell_type": "markdown",
      "metadata": {
        "id": "view-in-github",
        "colab_type": "text"
      },
      "source": [
        "<a href=\"https://colab.research.google.com/github/Esteban-Prince/CPE-311/blob/main/DSCI_HOA_2_1.ipynb\" target=\"_parent\"><img src=\"https://colab.research.google.com/assets/colab-badge.svg\" alt=\"Open In Colab\"/></a>"
      ]
    },
    {
      "cell_type": "markdown",
      "source": [
        "# Tower of Hanoi"
      ],
      "metadata": {
        "id": "HtjxQe7fjWSz"
      }
    },
    {
      "cell_type": "code",
      "source": [
        "size = 30, 20, 10\n",
        "\n",
        "stacks = 3"
      ],
      "metadata": {
        "id": "vfVITfDVl1gy"
      },
      "execution_count": null,
      "outputs": []
    },
    {
      "cell_type": "code",
      "execution_count": null,
      "metadata": {
        "id": "RlMG0GDXjRah"
      },
      "outputs": [],
      "source": [
        "class Stacks():\n",
        "    def __init__(self, a, b, c):\n",
        "        # Make the variables private\n",
        "        self.source = a\n",
        "        self.auxillary = b\n",
        "        self.destination = c\n",
        "    #def"
      ]
    },
    {
      "cell_type": "code",
      "source": [
        "'''def stack(source, auxillary, destination):\n",
        "    list1 = []\n",
        "    for i in range(len(source)):\n",
        "        list1.append(Stacks(source[i], auxillary[i],destination[i]))\n",
        "    return list1'''"
      ],
      "metadata": {
        "colab": {
          "base_uri": "https://localhost:8080/",
          "height": 35
        },
        "id": "7xpeY6kHj5WC",
        "outputId": "c3977af5-24c9-430f-fd3b-84a50111490e"
      },
      "execution_count": null,
      "outputs": [
        {
          "output_type": "execute_result",
          "data": {
            "text/plain": [
              "'def stack(source, auxillary, destination):\\n    list1 = []\\n    for i in range(len(source)):\\n        list1.append(Stacks(source[i], auxillary[i],destination[i]))\\n    return list1'"
            ],
            "application/vnd.google.colaboratory.intrinsic+json": {
              "type": "string"
            }
          },
          "metadata": {},
          "execution_count": 33
        }
      ]
    },
    {
      "cell_type": "code",
      "source": [
        "source = [4,3,2,1]\n",
        "auxillary = []\n",
        "destination = []\n",
        "\n",
        "\n",
        "print(source, auxillary, destination)\n",
        "def listing(a,b,c):\n",
        "    while len(source) > 0 and len(destination) < 3:\n",
        "        for i in range (len(source)):\n",
        "          auxillary.append(source.pop())\n",
        "          print(source, auxillary, destination)\n",
        "        for i in range (len(auxillary)):\n",
        "          destination.append(auxillary.pop())\n",
        "          print(source, auxillary, destination)\n",
        "\n",
        "listing(source, auxillary, destination)\n",
        "#print(source, auxillary, destination)"
      ],
      "metadata": {
        "colab": {
          "base_uri": "https://localhost:8080/"
        },
        "id": "fVp9JnGBnKph",
        "outputId": "c4740ff2-a08b-49e9-fb55-e03bb6a3cc71"
      },
      "execution_count": null,
      "outputs": [
        {
          "output_type": "stream",
          "name": "stdout",
          "text": [
            "[4, 3, 2, 1] [] []\n",
            "[4, 3, 2] [1] []\n",
            "[4, 3] [1, 2] []\n",
            "[4] [1, 2, 3] []\n",
            "[] [1, 2, 3, 4] []\n",
            "[] [1, 2, 3] [4]\n",
            "[] [1, 2] [4, 3]\n",
            "[] [1] [4, 3, 2]\n",
            "[] [] [4, 3, 2, 1]\n"
          ]
        }
      ]
    },
    {
      "cell_type": "code",
      "source": [
        "n = 3\n",
        "source = []\n",
        "auxillary = []\n",
        "destination = []\n",
        "\n",
        "if n > 1:\n",
        "          for i in range (n-1,-1,-1):\n",
        "            source.append(i+1)\n",
        "\n",
        "\n",
        "\n",
        "print(source, auxillary, destination)\n",
        "def listing(a,b,c):\n",
        "    while len(source) > 0 and len(destination) < 3:\n",
        "\n",
        "        for i in range (len(source)):\n",
        "          if source and auxillary:\n",
        "            if source[-1] < auxillary[-1]:\n",
        "              destination.append(source.pop())\n",
        "              print(source, auxillary, destination)\n",
        "            elif source[-1] > auxillary[-1]:\n",
        "              auxillary.append(source.pop())\n",
        "              print(source, auxillary, destination)\n",
        "          else:\n",
        "            auxillary.append(source.pop())\n",
        "            print(source, auxillary, destination)\n",
        "\n",
        "\n",
        "\n",
        "        for i in range (len(auxillary)):\n",
        "          if source and auxillary:\n",
        "            if auxillary[-1] < destination[-1]:\n",
        "              destination.append(auxillary.pop())\n",
        "              print(source, auxillary, destination)\n",
        "            elif auxillary[-1] > destination[-1]:\n",
        "              source.append(auxillary.pop())\n",
        "              print(source, auxillary, destination)\n",
        "\n",
        "          else:\n",
        "            destination.append(auxillary.pop())\n",
        "            print(source, auxillary, destination)\n",
        "\n",
        "\n",
        "\n",
        "\n",
        "def solving(a,b,c):\n",
        "    pass\n",
        "\n",
        "listing(source, auxillary, destination)\n",
        "#print(source, auxillary, destination)'''"
      ],
      "metadata": {
        "colab": {
          "base_uri": "https://localhost:8080/"
        },
        "id": "SsXAXDMrk0KS",
        "outputId": "ed49d8e8-d325-431d-fa83-8b2dda31efa0"
      },
      "execution_count": 43,
      "outputs": [
        {
          "output_type": "stream",
          "name": "stdout",
          "text": [
            "[3, 2, 1] [] []\n",
            "[3, 2] [1] []\n",
            "[3] [1, 2] []\n",
            "[] [1, 2, 3] []\n",
            "[] [1, 2] [3]\n",
            "[] [1] [3, 2]\n",
            "[] [] [3, 2, 1]\n"
          ]
        }
      ]
    },
    {
      "cell_type": "code",
      "source": [
        "def tower_of_hanoi(n, stack1, stack2, stack3):\n",
        "    if n > 0:\n",
        "        # Move n-1 disks from stack1 to stack2 using stack3 as auxiliary\n",
        "        tower_of_hanoi(n - 1, stack1, stack3, stack2)\n",
        "\n",
        "        # Move the nth disk from stack1 to stack3\n",
        "        stack3.append(stack1.pop())\n",
        "        print(f\"Move disk {n} from Stack1 to Stack3: {stack3}\")\n",
        "        print(f\"{stack1},{stack2},{stack3}\\n\")\n",
        "\n",
        "        # Move n-1 disks from stack2 to stack3 using stack1 as auxiliary\n",
        "        tower_of_hanoi(n - 1, stack2, stack1, stack3)\n",
        "\n",
        "# Initialize stacks\n",
        "num_disks = 3\n",
        "stack1 = list(range(num_disks, 0, -1))  # Source stack (largest disk at bottom)\n",
        "stack2 = []  # Auxiliary stack\n",
        "stack3 = []  # Destination stack\n",
        "\n",
        "print(\"Initial Stacks:\")\n",
        "print(f\"Stack1: {stack1}\")\n",
        "print(f\"Stack2: {stack2}\")\n",
        "print(f\"Stack3: {stack3}\\n\")\n",
        "\n",
        "# Solve Tower of Hanoi\n",
        "tower_of_hanoi(num_disks, stack1, stack2, stack3)\n",
        "\n",
        "print(\"Final Stacks:\")\n",
        "print(f\"Stack1: {stack1}\")\n",
        "print(f\"Stack2: {stack2}\")\n",
        "print(f\"Stack3: {stack3}\")\n"
      ],
      "metadata": {
        "colab": {
          "base_uri": "https://localhost:8080/"
        },
        "id": "HoEz5GyKOVOL",
        "outputId": "577a6182-74f5-4a33-ebf6-b1cbde678035"
      },
      "execution_count": 67,
      "outputs": [
        {
          "output_type": "stream",
          "name": "stdout",
          "text": [
            "Initial Stacks:\n",
            "Stack1: [3, 2, 1]\n",
            "Stack2: []\n",
            "Stack3: []\n",
            "\n",
            "Move disk 1 from Stack1 to Stack3: [1]\n",
            "[3, 2],[],[1]\n",
            "\n",
            "Move disk 2 from Stack1 to Stack3: [2]\n",
            "[3],[1],[2]\n",
            "\n",
            "Move disk 1 from Stack1 to Stack3: [2, 1]\n",
            "[],[3],[2, 1]\n",
            "\n",
            "Move disk 3 from Stack1 to Stack3: [3]\n",
            "[],[2, 1],[3]\n",
            "\n",
            "Move disk 1 from Stack1 to Stack3: [1]\n",
            "[2],[3],[1]\n",
            "\n",
            "Move disk 2 from Stack1 to Stack3: [3, 2]\n",
            "[],[1],[3, 2]\n",
            "\n",
            "Move disk 1 from Stack1 to Stack3: [3, 2, 1]\n",
            "[],[],[3, 2, 1]\n",
            "\n",
            "Final Stacks:\n",
            "Stack1: []\n",
            "Stack2: []\n",
            "Stack3: [3, 2, 1]\n"
          ]
        }
      ]
    }
  ]
}