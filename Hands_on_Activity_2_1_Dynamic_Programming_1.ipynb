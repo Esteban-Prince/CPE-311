{
  "cells": [
    {
      "cell_type": "markdown",
      "metadata": {
        "id": "view-in-github",
        "colab_type": "text"
      },
      "source": [
        "<a href=\"https://colab.research.google.com/github/Esteban-Prince/CPE-311/blob/main/Hands_on_Activity_2_1_Dynamic_Programming_1.ipynb\" target=\"_parent\"><img src=\"https://colab.research.google.com/assets/colab-badge.svg\" alt=\"Open In Colab\"/></a>"
      ]
    },
    {
      "cell_type": "markdown",
      "id": "f1c6ec95",
      "metadata": {
        "id": "f1c6ec95"
      },
      "source": [
        "# Hands-on Activity 2.1 : Dynamic Programming"
      ]
    },
    {
      "cell_type": "markdown",
      "id": "56dacba1",
      "metadata": {
        "id": "56dacba1"
      },
      "source": [
        "#### Objective(s):\n",
        "\n",
        "This activity aims to demonstrate how to use dynamic programming to solve problems."
      ]
    },
    {
      "cell_type": "markdown",
      "id": "e51f84e3",
      "metadata": {
        "id": "e51f84e3"
      },
      "source": [
        "#### Intended Learning Outcomes (ILOs):\n",
        "* Differentiate recursion method from dynamic programming to solve problems.\n",
        "* Demonstrate how to  solve real-world problems using dynamic programming\n"
      ]
    },
    {
      "cell_type": "markdown",
      "id": "39047b1a",
      "metadata": {
        "id": "39047b1a"
      },
      "source": [
        "#### Resources:\n",
        "* Jupyter Notebook\n"
      ]
    },
    {
      "cell_type": "markdown",
      "id": "cb5360c0",
      "metadata": {
        "id": "cb5360c0"
      },
      "source": [
        "#### Procedures:"
      ]
    },
    {
      "cell_type": "markdown",
      "id": "206a914c",
      "metadata": {
        "id": "206a914c"
      },
      "source": [
        "1. Create a code that demonstrate how to use recursion method to solve problem"
      ]
    },
    {
      "cell_type": "markdown",
      "id": "5744a876",
      "metadata": {
        "id": "5744a876"
      },
      "source": [
        "2. Create a program codes that demonstrate how to use dynamic programming to solve the same problem"
      ]
    },
    {
      "cell_type": "markdown",
      "id": "8e3f6572",
      "metadata": {
        "id": "8e3f6572"
      },
      "source": [
        "##### Question:\n",
        "Explain the difference of using the recursion from dynamic programming using the given sample codes to solve the same problem"
      ]
    },
    {
      "cell_type": "markdown",
      "id": "b5a71b53",
      "metadata": {
        "id": "b5a71b53"
      },
      "source": [
        "Type your answer here: Using recursion, for me it is easier to understand, but less efficient. On the other hand, using DP can lead to a more efficient runtime by avoiding redundant operations.\n",
        "\n",
        "\n",
        "\n"
      ]
    },
    {
      "cell_type": "markdown",
      "id": "60074702",
      "metadata": {
        "id": "60074702"
      },
      "source": [
        "3. Create a sample program codes to simulate bottom-up dynamic programming"
      ]
    },
    {
      "cell_type": "code",
      "source": [
        "def fibtab(n):\n",
        "    if n <= 1:\n",
        "        return n\n",
        "    dp = [0] * (n + 1)\n",
        "    dp[1] = 1\n",
        "    for i in range(2, n + 1):\n",
        "        dp[i] = dp[i - 1] + dp[i - 2]\n",
        "    return dp[n]\n",
        "\n",
        "print(fibtab(8))\n"
      ],
      "metadata": {
        "colab": {
          "base_uri": "https://localhost:8080/"
        },
        "id": "ryYOm5ii34jB",
        "outputId": "aa231f5d-951d-416e-9990-88598ebc1387"
      },
      "id": "ryYOm5ii34jB",
      "execution_count": null,
      "outputs": [
        {
          "output_type": "stream",
          "name": "stdout",
          "text": [
            "21\n"
          ]
        }
      ]
    },
    {
      "cell_type": "markdown",
      "id": "e629eb89",
      "metadata": {
        "id": "e629eb89"
      },
      "source": [
        "4. Create a sample program codes that simulate tops-down dynamic programming"
      ]
    },
    {
      "cell_type": "code",
      "source": [
        "def fibfast(n, memo = {}):\n",
        "    if n in memo:\n",
        "        return memo[n]\n",
        "    if n <= 1:\n",
        "        return n\n",
        "    memo[n] = fibfast(n - 1, memo) + fibfast(n - 2, memo)\n",
        "    return memo[n]\n",
        "\n",
        "print(fibfast(6))"
      ],
      "metadata": {
        "colab": {
          "base_uri": "https://localhost:8080/"
        },
        "id": "MdPZEgz54MuU",
        "outputId": "ea205611-eb9c-47f7-915d-605a587bef75"
      },
      "id": "MdPZEgz54MuU",
      "execution_count": null,
      "outputs": [
        {
          "output_type": "stream",
          "name": "stdout",
          "text": [
            "8\n"
          ]
        }
      ]
    },
    {
      "cell_type": "markdown",
      "id": "c2e2434c",
      "metadata": {
        "id": "c2e2434c"
      },
      "source": [
        "#### Question:\n",
        " Explain the difference between bottom-up from top-down dynamic programming using the given sample codes"
      ]
    },
    {
      "cell_type": "markdown",
      "id": "ac97e063",
      "metadata": {
        "id": "ac97e063"
      },
      "source": [
        "Type your answer here: Top-Down DP (Memoization) uses recursion to break the problem into smaller subproblems, storing results to avoid redundant computations, but may cause stack overflow for large inputs. Bottom-Up DP (Tabulation) iteratively builds solutions from the smallest subproblems, avoiding recursion and reducing memory overhead. While Top-Down is easier to implement for recursive problems, Bottom-Up is generally more efficient for large inputs.\n",
        "\n",
        "\n",
        "\n",
        "\n"
      ]
    },
    {
      "cell_type": "markdown",
      "id": "f7a5bfbd",
      "metadata": {
        "id": "f7a5bfbd"
      },
      "source": [
        "0/1 Knapsack Problem\n",
        "\n",
        "* Analyze three different techniques to solve knapsacks problem\n",
        "1. Recursion\n",
        "2. Dynamic Programming\n",
        "3. Memoization"
      ]
    },
    {
      "cell_type": "code",
      "source": [
        "#sample code for knapsack problem using recursion\n",
        "def rec_knapSack(w, wt, val, n):\n",
        "\n",
        "  #base case\n",
        "  #defined as nth item is empty;\n",
        "  #or the capacity w is 0\n",
        "  if n == 0 or w == 0:\n",
        "    return 0\n",
        "\n",
        "  #if weight of the nth item is more than\n",
        "  #the capacity W, then this item cannot be included\n",
        "  #as part of the optimal solution\n",
        "  if(wt[n-1] > w):\n",
        "    return rec_knapSack(w, wt, val, n-1)\n",
        "\n",
        "  #return the maximum of the two cases:\n",
        "  # (1) include the nth item\n",
        "  # (2) don't include the nth item\n",
        "  else:\n",
        "    return max(\n",
        "        val[n-1] + rec_knapSack(\n",
        "            w-wt[n-1], wt, val, n-1),\n",
        "            rec_knapSack(w, wt, val, n-1)\n",
        "    )"
      ],
      "metadata": {
        "id": "15SVHF85_1Ji"
      },
      "id": "15SVHF85_1Ji",
      "execution_count": null,
      "outputs": []
    },
    {
      "cell_type": "code",
      "source": [
        "#To test:\n",
        "val = [60, 100, 120] #values for the items\n",
        "wt = [10, 20, 30] #weight of the items\n",
        "w = 50 #knapsack weight capacity\n",
        "n = len(val) #number of items\n",
        "\n",
        "rec_knapSack(w, wt, val, n)"
      ],
      "metadata": {
        "colab": {
          "base_uri": "https://localhost:8080/"
        },
        "id": "b1D3YRJ7cMqU",
        "outputId": "2bbc56ba-7061-403a-fb03-fd05412ff04a"
      },
      "id": "b1D3YRJ7cMqU",
      "execution_count": null,
      "outputs": [
        {
          "output_type": "execute_result",
          "data": {
            "text/plain": [
              "220"
            ]
          },
          "metadata": {},
          "execution_count": 7
        }
      ]
    },
    {
      "cell_type": "code",
      "source": [
        "#Dynamic Programming for the Knapsack Problem\n",
        "def DP_knapSack(w, wt, val, n):\n",
        "  #create the table\n",
        "  table = [[0 for x in range(w+1)] for x in range (n+1)]\n",
        "\n",
        "  #populate the table in a bottom-up approach\n",
        "  for i in range(n+1):\n",
        "    for w in range(w+1):\n",
        "      if i == 0 or w == 0:\n",
        "        table[i][w] = 0\n",
        "      elif wt[i-1] <= w:\n",
        "        table[i][w] = max(val[i-1] + table[i-1][w-wt[i-1]],\n",
        "                          table[i-1][w])\n",
        "  return table[n][w]"
      ],
      "metadata": {
        "id": "A8OU1sUJ_1ES"
      },
      "id": "A8OU1sUJ_1ES",
      "execution_count": null,
      "outputs": []
    },
    {
      "cell_type": "code",
      "source": [
        "#To test:\n",
        "val = [60, 100, 120]\n",
        "wt = [10, 20, 30]\n",
        "w = 50\n",
        "n = len(val)\n",
        "\n",
        "DP_knapSack(w, wt, val, n)"
      ],
      "metadata": {
        "colab": {
          "base_uri": "https://localhost:8080/"
        },
        "id": "GUNeEPHrd-N1",
        "outputId": "4829e602-248b-48f8-cbd3-e75c4d87d3b6"
      },
      "id": "GUNeEPHrd-N1",
      "execution_count": null,
      "outputs": [
        {
          "output_type": "execute_result",
          "data": {
            "text/plain": [
              "220"
            ]
          },
          "metadata": {},
          "execution_count": 29
        }
      ]
    },
    {
      "cell_type": "code",
      "source": [
        "#Sample for top-down DP approach (memoization)\n",
        "#initialize the list of items\n",
        "val = [60, 100, 120]\n",
        "wt = [10, 20, 30]\n",
        "w = 50\n",
        "n = len(val)\n",
        "\n",
        "#initialize the container for the values that have to be stored\n",
        "#values are initialized to -1\n",
        "calc =[[-1 for i in range(w+1)] for j in range(n+1)]\n",
        "\n",
        "\n",
        "def mem_knapSack(wt, val, w, n):\n",
        "  #base conditions\n",
        "  if n == 0 or w == 0:\n",
        "    return 0\n",
        "  if calc[n][w] != -1:\n",
        "    return calc[n][w]\n",
        "\n",
        "  #compute for the other cases\n",
        "  if wt[n-1] <= w:\n",
        "    calc[n][w] = max(val[n-1] + mem_knapSack(wt, val, w-wt[n-1], n-1),\n",
        "                     mem_knapSack(wt, val, w, n-1))\n",
        "    return calc[n][w]\n",
        "  elif wt[n-1] > w:\n",
        "    calc[n][w] = mem_knapSack(wt, val, w, n-1)\n",
        "    return calc[n][w]\n",
        "\n",
        "mem_knapSack(wt, val, w, n)"
      ],
      "metadata": {
        "id": "VgwTX-XT_0_h",
        "colab": {
          "base_uri": "https://localhost:8080/"
        },
        "outputId": "6f3c2cc6-01fc-433a-ae1e-cbb99976c028"
      },
      "id": "VgwTX-XT_0_h",
      "execution_count": null,
      "outputs": [
        {
          "output_type": "execute_result",
          "data": {
            "text/plain": [
              "220"
            ]
          },
          "metadata": {},
          "execution_count": 31
        }
      ]
    },
    {
      "cell_type": "markdown",
      "source": [
        "**Code Analysis**\n",
        "\n",
        "Type your answer here."
      ],
      "metadata": {
        "id": "-UXSSblDcF8T"
      },
      "id": "-UXSSblDcF8T"
    },
    {
      "cell_type": "markdown",
      "source": [
        "## Seatwork 2.1"
      ],
      "metadata": {
        "id": "IGsdUGCUcTFd"
      },
      "id": "IGsdUGCUcTFd"
    },
    {
      "cell_type": "markdown",
      "id": "0462053d",
      "metadata": {
        "id": "0462053d"
      },
      "source": [
        "Task 1: Modify the three techniques to include additional criterion in the knapsack problems"
      ]
    },
    {
      "cell_type": "code",
      "execution_count": null,
      "id": "ed2f6186",
      "metadata": {
        "id": "ed2f6186",
        "colab": {
          "base_uri": "https://localhost:8080/"
        },
        "outputId": "35e8dbbe-2efa-4ab5-c1d3-6b8886db1bb5"
      },
      "outputs": [
        {
          "output_type": "stream",
          "name": "stdout",
          "text": [
            "Recursion Technique\n",
            "\n",
            "Maximum Value: 220\n",
            "Total Price: 500\n"
          ]
        }
      ],
      "source": [
        "#Recursion Knapsack with additional price criterion\n",
        "def rec_knapSack(w, p, wt, val, n):\n",
        "\n",
        "    # Base case: No items left or no capacity\n",
        "    if n == 0 or w == 0:\n",
        "        return 0, 0  # Return both value and price as a tuple\n",
        "\n",
        "    # If weight of nth item exceeds capacity, exclude it\n",
        "    if wt[n-1] > w:\n",
        "        print(\"Items have reached the maximum capacity!\")\n",
        "        return rec_knapSack(w, p, wt, val, n-1)\n",
        "\n",
        "    # Get results of recursive calls\n",
        "    included_value, included_price = rec_knapSack(w - wt[n-1], p, wt, val, n-1)\n",
        "    excluded_value, excluded_price = rec_knapSack(w, p, wt, val, n-1)\n",
        "\n",
        "    # If including the item gives a better value, choose that\n",
        "    if val[n-1] + included_value > excluded_value:\n",
        "        return val[n-1] + included_value, p[n-1] + included_price\n",
        "    else:\n",
        "        return excluded_value, excluded_price\n",
        "\n",
        "# Test Case\n",
        "val = [60, 100, 120]  # Item values\n",
        "wt = [10, 20, 30]  # Item weights\n",
        "p = [100, 200, 300]  # Item prices\n",
        "w = 50  # Knapsack capacity\n",
        "n = len(val)  # Number of items\n",
        "\n",
        "print('Recursion Technique\\n')\n",
        "max_value, total_price = rec_knapSack(w, p, wt, val, n)\n",
        "print(f\"Maximum Value: {max_value}\")\n",
        "print(f\"Total Price: {total_price}\")\n"
      ]
    },
    {
      "cell_type": "code",
      "source": [
        "#Dynamic Knapsack with additional Price criterion\n",
        "def DP_knapSack(w, wt, val, n):\n",
        "  #create the table\n",
        "  table = [[0 for x in range(w+1)] for x in range (n+1)]\n",
        "  price = [[0 for x in range(w+1)] for x in range (n+1)]\n",
        "\n",
        "  #populate the table in a bottom-up approach\n",
        "  for i in range(n+1):\n",
        "    for w in range(w+1):\n",
        "      if i == 0 or w == 0:\n",
        "        table[i][w] = 0\n",
        "      elif wt[i-1] <= w:\n",
        "        table[i][w] = max(val[i-1] + table[i-1][w-wt[i-1]],table[i-1][w])\n",
        "        price[i][w] = max(p[i-1] + price[i-1][w-wt[i-1]],price[i-1][w])\n",
        "  return table[n][w],price[n][w]\n",
        "\n",
        "#To test:\n",
        "val = [60, 100, 120] #values for the items\n",
        "wt = [10, 20, 30] #weight of the items\n",
        "p = [100, 200, 300] #additional criterion (price)\n",
        "w = 50 #knapsack weight capacity\n",
        "n = len(val) #number of items\n",
        "\n",
        "DP_knapSack(w, wt, val, n)"
      ],
      "metadata": {
        "colab": {
          "base_uri": "https://localhost:8080/"
        },
        "id": "QePu7U-0v7Rx",
        "outputId": "dc4b06bf-3c27-4121-9fef-37a7c23d185e"
      },
      "id": "QePu7U-0v7Rx",
      "execution_count": null,
      "outputs": [
        {
          "output_type": "execute_result",
          "data": {
            "text/plain": [
              "(220, 500)"
            ]
          },
          "metadata": {},
          "execution_count": 22
        }
      ]
    },
    {
      "cell_type": "code",
      "source": [
        "# Memoization Knapsack with additional Price Criterion\n",
        "# Initialize the list of items\n",
        "val = [60, 100, 120]  # Item values\n",
        "wt = [10, 20, 30]  # Item weights\n",
        "p = [100, 200, 300]  # Item prices\n",
        "w = 50  # Knapsack capacity\n",
        "n = len(val)  # Number of items\n",
        "\n",
        "# Initialize memoization tables\n",
        "calc = [[-1 for _ in range(w+1)] for _ in range(n+1)]\n",
        "price = [[-1 for _ in range(w+1)] for _ in range(n+1)]\n",
        "\n",
        "def mem_knapSack(wt, p, val, w, n):\n",
        "    # Base case: No items left or capacity is 0\n",
        "    if n == 0 or w == 0:\n",
        "        return 0, 0  # Return both value and price\n",
        "\n",
        "    # Return stored values if already computed\n",
        "    if calc[n][w] != -1 and price[n][w] != -1:\n",
        "        return calc[n][w], price[n][w]\n",
        "\n",
        "    # If weight of the nth item is more than capacity, exclude it\n",
        "    if wt[n-1] > w:\n",
        "        calc[n][w], price[n][w] = mem_knapSack(wt, p, val, w, n-1)\n",
        "        return calc[n][w], price[n][w]\n",
        "\n",
        "    # Compute max value and price including/excluding the item\n",
        "    included_value, included_price = mem_knapSack(wt, p, val, w - wt[n-1], n-1)\n",
        "    excluded_value, excluded_price = mem_knapSack(wt, p, val, w, n-1)\n",
        "\n",
        "    if val[n-1] + included_value > excluded_value:\n",
        "        calc[n][w] = val[n-1] + included_value\n",
        "        price[n][w] = p[n-1] + included_price\n",
        "    else:\n",
        "        calc[n][w] = excluded_value\n",
        "        price[n][w] = excluded_price\n",
        "\n",
        "    return calc[n][w], price[n][w]\n",
        "\n",
        "# Compute max value and total price\n",
        "max_value, total_price = mem_knapSack(wt, p, val, w, n)\n",
        "\n",
        "# Print results\n",
        "print(\"Memoization Technique\\n\")\n",
        "print(f\"Maximum Value: {max_value}\")\n",
        "print(f\"Total Price: {total_price}\")\n"
      ],
      "metadata": {
        "colab": {
          "base_uri": "https://localhost:8080/"
        },
        "id": "marE9gBoyLm5",
        "outputId": "552346e6-c31f-4511-e7e3-4a1d8285b45f"
      },
      "id": "marE9gBoyLm5",
      "execution_count": null,
      "outputs": [
        {
          "output_type": "stream",
          "name": "stdout",
          "text": [
            "Memoization Technique\n",
            "\n",
            "Maximum Value: 220\n",
            "Total Price: 500\n"
          ]
        }
      ]
    },
    {
      "cell_type": "markdown",
      "id": "d97e864e",
      "metadata": {
        "id": "d97e864e"
      },
      "source": [
        "Fibonacci Numbers"
      ]
    },
    {
      "cell_type": "markdown",
      "id": "f44e88aa",
      "metadata": {
        "id": "f44e88aa"
      },
      "source": [
        "Task 2: Create a sample program that find the nth number of Fibonacci Series using Dynamic Programming"
      ]
    },
    {
      "cell_type": "code",
      "execution_count": 9,
      "id": "745871be",
      "metadata": {
        "id": "745871be",
        "colab": {
          "base_uri": "https://localhost:8080/"
        },
        "outputId": "84ff4511-117b-45b3-c153-cc49c146626b"
      },
      "outputs": [
        {
          "output_type": "execute_result",
          "data": {
            "text/plain": [
              "34"
            ]
          },
          "metadata": {},
          "execution_count": 9
        }
      ],
      "source": [
        "#type your code here\n",
        "def fibdp(n, memo = {}):\n",
        "  if n == 0 or n == 1:\n",
        "    return 1\n",
        "\n",
        "  try:\n",
        "    return memo[n]\n",
        "  except:\n",
        "    memo[n] = (fibdp(n-1, memo) + fibdp(n-2, memo))\n",
        "    return memo[n]\n",
        "\n",
        "fibdp(8)"
      ]
    },
    {
      "cell_type": "markdown",
      "id": "070ddd75",
      "metadata": {
        "id": "070ddd75"
      },
      "source": [
        "## Supplementary Problem (HOA 2.1 Submission):\n",
        "* Choose a real-life problem\n",
        "* Use recursion and dynamic programming to solve the problem"
      ]
    },
    {
      "cell_type": "code",
      "execution_count": 31,
      "id": "86eef507",
      "metadata": {
        "id": "86eef507",
        "colab": {
          "base_uri": "https://localhost:8080/"
        },
        "outputId": "cc38c49e-4b40-48df-ebdf-bb8f78146d0c"
      },
      "outputs": [
        {
          "output_type": "stream",
          "name": "stdout",
          "text": [
            "1 Equivalent:  10\n",
            "2 Equivalent:  9\n",
            "3 Equivalent:  8\n",
            "4 Equivalent:  7\n",
            "5 Equivalent:  6\n",
            "6 Equivalent:  5\n",
            "7 Equivalent:  4\n",
            "8 Equivalent:  3\n",
            "9 Equivalent:  2\n",
            "10 Equivalent:  1\n",
            "The Anagram is [10, 9, 8, 7, 6, 5, 4, 3, 2, 1]\n"
          ]
        }
      ],
      "source": [
        "#type your code here for recursion programming solution\n",
        "# My chosen real life problem is \"Anagram Concept\"\n",
        "\n",
        "def anag(n, m, limit):\n",
        "  anagdic = []\n",
        "  if n < 0:\n",
        "    print('Unable to solve anagram for negative units')\n",
        "    return None\n",
        "\n",
        "  elif n < limit:\n",
        "    while m > 0:\n",
        "      anagdic.append(m)\n",
        "      print(n, \"Equivalent: \", m)\n",
        "      anagdic.extend(anag(n+1, m-1, limit) or [])\n",
        "      return anagdic\n",
        "\n",
        "\n",
        "result = anag(1, 10, 11)\n",
        "\n",
        "print(\"The Anagram is\", result)"
      ]
    },
    {
      "cell_type": "code",
      "execution_count": 32,
      "id": "73b071b6",
      "metadata": {
        "id": "73b071b6",
        "colab": {
          "base_uri": "https://localhost:8080/"
        },
        "outputId": "2502badb-3395-4407-e1ed-15a804e330a4"
      },
      "outputs": [
        {
          "output_type": "stream",
          "name": "stdout",
          "text": [
            "1 Equivalent: 10\n",
            "2 Equivalent: 9\n",
            "3 Equivalent: 8\n",
            "4 Equivalent: 7\n",
            "5 Equivalent: 6\n",
            "6 Equivalent: 5\n",
            "7 Equivalent: 4\n",
            "8 Equivalent: 3\n",
            "9 Equivalent: 2\n",
            "10 Equivalent: 1\n",
            "\n",
            "The Anagram is [10, 9, 8, 7, 6, 5, 4, 3, 2, 1]\n"
          ]
        }
      ],
      "source": [
        "#type your code here for dynamic programming solution\n",
        "def anag_dp(n, m, limit, memo=None):\n",
        "    if memo is None:\n",
        "        memo = {}\n",
        "\n",
        "    # Base case: Negative numbers are not allowed\n",
        "    if n < 0:\n",
        "        print('Unable to solve anagram for negative units')\n",
        "        return []\n",
        "\n",
        "    # If already computed, return stored result\n",
        "    if (n, m) in memo:\n",
        "        return memo[(n, m)]\n",
        "\n",
        "    anagdic = []\n",
        "\n",
        "    if n < limit and m > 0:\n",
        "        anagdic.append(m)\n",
        "        print(n, \"Equivalent:\", m)\n",
        "\n",
        "        # Store result before making the recursive call\n",
        "        memo[(n, m)] = anagdic + anag_dp(n + 1, m - 1, limit, memo)\n",
        "\n",
        "    return memo.get((n, m), anagdic)  # Return stored value if exists, else return list\n",
        "\n",
        "# Test the function\n",
        "result = anag_dp(1, 10, 11)\n",
        "\n",
        "print(\"\\nThe Anagram is\", result)\n"
      ]
    },
    {
      "cell_type": "markdown",
      "id": "bb0ed6a9",
      "metadata": {
        "id": "bb0ed6a9"
      },
      "source": [
        "#### Conclusion"
      ]
    },
    {
      "cell_type": "code",
      "execution_count": null,
      "id": "9627d18c",
      "metadata": {
        "id": "9627d18c"
      },
      "outputs": [],
      "source": [
        "#type your answer here\n"
      ]
    },
    {
      "cell_type": "markdown",
      "source": [
        "Recursion solves problems by breaking them into smaller subproblems but can be inefficient due to redundant calculations. Dynamic programming (DP) optimizes recursion by storing intermediate results, with **top-down (memoization)** using recursion and caching, while **bottom-up (tabulation)** iteratively builds solutions from smaller subproblems. Bottom-up is often more efficient in terms of space, while top-down is more intuitive when solving problems recursively."
      ],
      "metadata": {
        "id": "j1jfMHctNfln"
      },
      "id": "j1jfMHctNfln"
    }
  ],
  "metadata": {
    "kernelspec": {
      "display_name": "Python 3",
      "language": "python",
      "name": "python3"
    },
    "language_info": {
      "codemirror_mode": {
        "name": "ipython",
        "version": 3
      },
      "file_extension": ".py",
      "mimetype": "text/x-python",
      "name": "python",
      "nbconvert_exporter": "python",
      "pygments_lexer": "ipython3",
      "version": "3.7.10"
    },
    "colab": {
      "provenance": [],
      "include_colab_link": true
    }
  },
  "nbformat": 4,
  "nbformat_minor": 5
}